{
 "cells": [
  {
   "cell_type": "markdown",
   "source": [
    "# Keys 1981 Cubic Convolution\n",
    "\n",
    "This notebook aims to experiment with the \"Cubic Convolution\" interpolation\n",
    "algorithm provided by Keys in 1981 (IEEE Journal of something).\n"
   ],
   "metadata": {
    "collapsed": false
   }
  },
  {
   "cell_type": "code",
   "execution_count": null,
   "outputs": [],
   "source": [
    "import PIL.Image as Image\n",
    "import matplotlib.pyplot as plt\n",
    "import numpy as np"
   ],
   "metadata": {
    "collapsed": false
   }
  },
  {
   "cell_type": "code",
   "execution_count": null,
   "outputs": [],
   "source": [
    "rec601_luma_weights = {\n",
    "    # source:\n",
    "    # https://en.wikipedia.org/wiki/Grayscale#Luma_coding_in_video_systems\n",
    "    \"r\": 0.299,\n",
    "    \"g\": 0.587,\n",
    "    \"b\": 0.114\n",
    "}\n",
    "# load image data\n",
    "img = Image.open('../media/mgsv.png')\n",
    "\n",
    "# convert to grayscale and resize to 600x600\n",
    "data = np.array(img)[480:1080, 600:1200]\n",
    "\n",
    "snake = np.uint8(\n",
    "    rec601_luma_weights['r'] * data[:, :, 0] + \\\n",
    "    rec601_luma_weights['g'] * data[:, :, 1] + \\\n",
    "    rec601_luma_weights['b'] * data[:, :, 2])\n",
    "\n",
    "width, height = snake.shape\n"
   ],
   "metadata": {
    "collapsed": false
   }
  },
  {
   "cell_type": "code",
   "execution_count": null,
   "outputs": [],
   "source": [
    "plt.figure(figsize=(15, 15))\n",
    "plt.imshow(snake, cmap='gray');"
   ],
   "metadata": {
    "collapsed": false
   }
  },
  {
   "cell_type": "code",
   "execution_count": null,
   "outputs": [],
   "source": [
    "def u(s: float):\n",
    "    \"\"\"\n",
    "    cubic convolution interpolation kernel\n",
    "    Keys 1981 \"Cubic Convolution Interpolation for Digital Image Processing\"\n",
    "\n",
    "    :param s: kernel input value\n",
    "    :return: kernel value for `s`\n",
    "    \"\"\"\n",
    "    s = abs(s)\n",
    "    # use <= instead of < to avoid None on s==0 or s==1 or s==2\n",
    "    if 0.0 <= s < 1.0:\n",
    "        return 1.5 * (s ** 3) - 2.5 * (s ** 2) + 1.0\n",
    "    if 1.0 <= s < 2.0:\n",
    "        return -0.5 * (s ** 3) + 2.5 * (s ** 2) - 4 * s + 2.0\n",
    "    if 2.0 <= s:\n",
    "        return 0.0"
   ],
   "metadata": {
    "collapsed": false
   }
  },
  {
   "cell_type": "code",
   "execution_count": null,
   "outputs": [],
   "source": [
    "x = np.linspace(-3, 3, 10_000)\n",
    "y = np.array([u(a) for a in x])\n",
    "\n",
    "plt.figure(figsize=(8, 5))\n",
    "plt.title(\"Keys (1981) Cubic Convolution Kernel\")\n",
    "plt.grid()\n",
    "plt.plot(x, y, color=\"steelblue\");"
   ],
   "metadata": {
    "collapsed": false
   }
  },
  {
   "cell_type": "code",
   "execution_count": null,
   "outputs": [],
   "source": [
    "target_width, target_height = 1000, 1000\n",
    "target_resolution = target_width, target_height\n",
    "target_resolution"
   ],
   "metadata": {
    "collapsed": false
   }
  },
  {
   "cell_type": "code",
   "execution_count": null,
   "outputs": [],
   "source": [
    "first_line = snake[0]\n",
    "\n",
    "plt.figure(figsize=(10, 10))\n",
    "plt.imshow(snake, cmap=\"gray\")\n",
    "plt.plot(np.arange(600), first_line, color=\"orange\");"
   ],
   "metadata": {
    "collapsed": false
   }
  },
  {
   "cell_type": "code",
   "execution_count": null,
   "outputs": [],
   "source": [
    "# == pixel centers ==\n",
    "# sampling should be done at the \"center\" of each pixel.\n",
    "#\n",
    "# Assuming an image shall have the same actual target dimensions (in meters),\n",
    "# and the coordinates of the image go from 0 to 1 (left to right/top to bottom),\n",
    "# we want an easy formula to retrieve the center of a pixel s.t. we can sample\n",
    "# from this with the correct weights to different pixel widths/heights.\n",
    "\n",
    "from fractions import Fraction\n",
    "\n",
    "orig_pixel_centers = [\n",
    "    Fraction(n, width) + Fraction(1, 2) * Fraction(1, width)\n",
    "    for n in range(width)\n",
    "]\n",
    "\n",
    "target_pixel_centers = [\n",
    "    Fraction(n, target_width) + Fraction(1, 2) * Fraction(1, target_width)\n",
    "    for n in range(target_width)\n",
    "]\n",
    "\n",
    "plt.figure(figsize=(20, 3))\n",
    "plt.grid()\n",
    "\n",
    "plt.scatter(orig_pixel_centers[:50], np.zeros(50),\n",
    "            s=7, color=\"steelblue\", label=\"Orig pixel centers\")\n",
    "plt.scatter(target_pixel_centers[:int(50 * target_width / width)], np.zeros(int(50 * target_width / width)),\n",
    "            s=7, color=\"orange\", label=\"Target Pixel centers\")\n",
    "\n",
    "plt.legend();\n"
   ],
   "metadata": {
    "collapsed": false
   }
  }
 ],
 "metadata": {
  "kernelspec": {
   "display_name": "Python 3",
   "language": "python",
   "name": "python3"
  },
  "language_info": {
   "codemirror_mode": {
    "name": "ipython",
    "version": 2
   },
   "file_extension": ".py",
   "mimetype": "text/x-python",
   "name": "python",
   "nbconvert_exporter": "python",
   "pygments_lexer": "ipython2",
   "version": "2.7.6"
  }
 },
 "nbformat": 4,
 "nbformat_minor": 0
}
